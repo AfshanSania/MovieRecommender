{
 "cells": [
  {
   "cell_type": "code",
   "execution_count": 4,
   "id": "683464e0-280d-4672-acfd-07ed7018d079",
   "metadata": {},
   "outputs": [],
   "source": [
    "import pandas as pd\n",
    "import numpy as np\n",
    "from sklearn.model_selection import train_test_split\n",
    "from sklearn.metrics import mean_squared_error\n",
    "from math import sqrt"
   ]
  },
  {
   "cell_type": "code",
   "execution_count": 6,
   "id": "c570268f-9a19-49f7-9c8b-284541809e85",
   "metadata": {},
   "outputs": [
    {
     "name": "stdout",
     "output_type": "stream",
     "text": [
      "   userId  movieId  rating  timestamp\n",
      "0     196      242       3  881250949\n",
      "1     186      302       3  891717742\n",
      "2      22      377       1  878887116\n",
      "3     244       51       2  880606923\n",
      "4     166      346       1  886397596\n",
      "   movieId              title release_date  video_release_date  \\\n",
      "0        1   Toy Story (1995)  01-Jan-1995                 NaN   \n",
      "1        2   GoldenEye (1995)  01-Jan-1995                 NaN   \n",
      "2        3  Four Rooms (1995)  01-Jan-1995                 NaN   \n",
      "3        4  Get Shorty (1995)  01-Jan-1995                 NaN   \n",
      "4        5     Copycat (1995)  01-Jan-1995                 NaN   \n",
      "\n",
      "                                            IMDb_URL  unknown  Action  \\\n",
      "0  http://us.imdb.com/M/title-exact?Toy%20Story%2...        0       0   \n",
      "1  http://us.imdb.com/M/title-exact?GoldenEye%20(...        0       1   \n",
      "2  http://us.imdb.com/M/title-exact?Four%20Rooms%...        0       0   \n",
      "3  http://us.imdb.com/M/title-exact?Get%20Shorty%...        0       1   \n",
      "4  http://us.imdb.com/M/title-exact?Copycat%20(1995)        0       0   \n",
      "\n",
      "   Adventure  Animation  Children's  ...  Fantasy  Film-Noir  Horror  Musical  \\\n",
      "0          0          1           1  ...        0          0       0        0   \n",
      "1          1          0           0  ...        0          0       0        0   \n",
      "2          0          0           0  ...        0          0       0        0   \n",
      "3          0          0           0  ...        0          0       0        0   \n",
      "4          0          0           0  ...        0          0       0        0   \n",
      "\n",
      "   Mystery  Romance  Sci-Fi  Thriller  War  Western  \n",
      "0        0        0       0         0    0        0  \n",
      "1        0        0       0         1    0        0  \n",
      "2        0        0       0         1    0        0  \n",
      "3        0        0       0         0    0        0  \n",
      "4        0        0       0         1    0        0  \n",
      "\n",
      "[5 rows x 24 columns]\n"
     ]
    }
   ],
   "source": [
    "# Load ratings and movies dataset (preprocessed)\n",
    "ratings = pd.read_csv(\"data/ml-100k/u.data\", sep=\"\\t\", names=[\"userId\", \"movieId\", \"rating\", \"timestamp\"])\n",
    "movies = pd.read_csv(\"data/ml-100k/u.item\", sep=\"|\", encoding='latin-1', names=[\n",
    "    \"movieId\", \"title\", \"release_date\", \"video_release_date\", \"IMDb_URL\", \"unknown\",\n",
    "    \"Action\",\"Adventure\",\"Animation\",\"Children's\",\"Comedy\",\"Crime\",\"Documentary\",\"Drama\",\n",
    "    \"Fantasy\",\"Film-Noir\",\"Horror\",\"Musical\",\"Mystery\",\"Romance\",\"Sci-Fi\",\"Thriller\",\n",
    "    \"War\",\"Western\"\n",
    "], usecols=range(24))\n",
    "\n",
    "# Check the first few rows\n",
    "print(ratings.head())\n",
    "print(movies.head())"
   ]
  },
  {
   "cell_type": "code",
   "execution_count": 7,
   "id": "cec8224c-0798-4387-bfe5-4f787ab33073",
   "metadata": {},
   "outputs": [
    {
     "name": "stdout",
     "output_type": "stream",
     "text": [
      "Train dataset: (80000, 4), Test dataset: (20000, 4)\n"
     ]
    }
   ],
   "source": [
    "train_data, test_data = train_test_split(ratings, test_size=0.2, random_state=42)\n",
    "print(f\"Train dataset: {train_data.shape}, Test dataset: {test_data.shape}\")"
   ]
  },
  {
   "cell_type": "code",
   "execution_count": 8,
   "id": "75b77961-6336-4509-8e8a-468707814621",
   "metadata": {},
   "outputs": [
    {
     "name": "stdout",
     "output_type": "stream",
     "text": [
      "movieId  1     2     3     4     5     6     7     8     9     10    ...  \\\n",
      "userId                                                               ...   \n",
      "1         NaN   3.0   4.0   NaN   3.0   NaN   4.0   NaN   5.0   3.0  ...   \n",
      "2         4.0   NaN   NaN   NaN   NaN   NaN   NaN   NaN   NaN   NaN  ...   \n",
      "3         NaN   NaN   NaN   NaN   NaN   NaN   NaN   NaN   NaN   NaN  ...   \n",
      "4         NaN   NaN   NaN   NaN   NaN   NaN   NaN   NaN   NaN   NaN  ...   \n",
      "5         4.0   NaN   NaN   NaN   NaN   NaN   NaN   NaN   NaN   NaN  ...   \n",
      "\n",
      "movieId  1668  1670  1671  1672  1673  1676  1678  1679  1680  1681  \n",
      "userId                                                               \n",
      "1         NaN   NaN   NaN   NaN   NaN   NaN   NaN   NaN   NaN   NaN  \n",
      "2         NaN   NaN   NaN   NaN   NaN   NaN   NaN   NaN   NaN   NaN  \n",
      "3         NaN   NaN   NaN   NaN   NaN   NaN   NaN   NaN   NaN   NaN  \n",
      "4         NaN   NaN   NaN   NaN   NaN   NaN   NaN   NaN   NaN   NaN  \n",
      "5         NaN   NaN   NaN   NaN   NaN   NaN   NaN   NaN   NaN   NaN  \n",
      "\n",
      "[5 rows x 1653 columns]\n"
     ]
    }
   ],
   "source": [
    "# Pivot table: rows = users, columns = movies, values = ratings\n",
    "train_matrix = train_data.pivot(index='userId', columns='movieId', values='rating')\n",
    "test_matrix = test_data.pivot(index='userId', columns='movieId', values='rating')\n",
    "\n",
    "print(train_matrix.head())"
   ]
  },
  {
   "cell_type": "code",
   "execution_count": 9,
   "id": "6e54e84a-8552-4932-8ca7-fb00078f614e",
   "metadata": {},
   "outputs": [],
   "source": [
    "# Calculate mean rating per user\n",
    "user_mean = train_matrix.mean(axis=1)\n",
    "\n",
    "# Normalize by subtracting mean\n",
    "train_matrix_norm = train_matrix.sub(user_mean, axis=0)\n",
    "\n",
    "# Fill NaNs with 0\n",
    "train_matrix_norm.fillna(0, inplace=True)"
   ]
  },
  {
   "cell_type": "code",
   "execution_count": 10,
   "id": "3353ee93-1864-4c35-9a00-491c7cfc50ed",
   "metadata": {},
   "outputs": [
    {
     "name": "stdout",
     "output_type": "stream",
     "text": [
      "userId       1         2         3         4         5         6         7    \\\n",
      "userId                                                                         \n",
      "1       1.000000  0.026776 -0.009507  0.071335  0.060719  0.052215  0.095372   \n",
      "2       0.026776  1.000000  0.001526 -0.045814  0.039236  0.060250  0.098236   \n",
      "3      -0.009507  0.001526  1.000000 -0.077239  0.000000 -0.031638  0.000118   \n",
      "4       0.071335 -0.045814 -0.077239  1.000000 -0.003889 -0.046988 -0.024805   \n",
      "5       0.060719  0.039236  0.000000 -0.003889  1.000000  0.027890  0.042048   \n",
      "\n",
      "userId       8         9         10   ...       934       935       936  \\\n",
      "userId                                ...                                 \n",
      "1       0.140417  0.006843 -0.041563  ...  0.011441 -0.010146  0.051570   \n",
      "2       0.036941  0.052222  0.004292  ...  0.013064 -0.028013  0.031949   \n",
      "3       0.013674 -0.004630  0.004394  ... -0.001830 -0.002717 -0.024492   \n",
      "4       0.037080 -0.002601 -0.013575  ... -0.007540  0.004197 -0.002004   \n",
      "5       0.109762  0.019167 -0.003939  ...  0.023803 -0.086394  0.009031   \n",
      "\n",
      "userId       937       938       939       940       941       942       943  \n",
      "userId                                                                        \n",
      "1      -0.001705  0.032805  0.107196  0.059686 -0.010093 -0.080103  0.035879  \n",
      "2       0.141702 -0.001856  0.031693  0.019950  0.029566 -0.005522  0.041778  \n",
      "3       0.003825 -0.053452 -0.011408 -0.002208  0.006905  0.049025 -0.003884  \n",
      "4      -0.064994  0.042329  0.000000  0.155679 -0.021333 -0.025400 -0.024591  \n",
      "5       0.032876  0.059761  0.053514  0.024377  0.020533  0.024664  0.096855  \n",
      "\n",
      "[5 rows x 943 columns]\n"
     ]
    }
   ],
   "source": [
    "from sklearn.metrics.pairwise import cosine_similarity\n",
    "\n",
    "# Compute similarity between users\n",
    "user_similarity = cosine_similarity(train_matrix_norm)\n",
    "user_similarity = pd.DataFrame(user_similarity, index=train_matrix_norm.index, columns=train_matrix_norm.index)\n",
    "\n",
    "print(user_similarity.head())"
   ]
  },
  {
   "cell_type": "code",
   "execution_count": 11,
   "id": "1a6874e8-7034-42b4-9857-0b90d9253a9c",
   "metadata": {},
   "outputs": [
    {
     "name": "stdout",
     "output_type": "stream",
     "text": [
      "movieId      1         2         3         4         5         6         7     \\\n",
      "userId                                                                          \n",
      "1        0.113153 -0.052745 -0.018020  0.026617 -0.051129 -0.005442  0.169771   \n",
      "2        0.047761 -0.025872 -0.028880 -0.001607 -0.017611  0.004798  0.060259   \n",
      "3        0.005411  0.006962 -0.006218  0.011856 -0.020432  0.007020 -0.002451   \n",
      "4       -0.032796  0.013490 -0.007832 -0.022128  0.003532 -0.005645 -0.035226   \n",
      "5        0.218749 -0.038674 -0.030846  0.019017 -0.015649  0.002221  0.170230   \n",
      "\n",
      "movieId      8         9         10    ...      1668      1670      1671  \\\n",
      "userId                                 ...                                 \n",
      "1        0.083099  0.182606  0.018347  ...  0.000191  0.000191 -0.001682   \n",
      "2        0.025508  0.076094  0.003815  ...  0.000204  0.000204 -0.001239   \n",
      "3        0.014165  0.052800  0.011554  ... -0.000147 -0.000147 -0.002594   \n",
      "4        0.005020  0.003465  0.017940  ... -0.000352 -0.000352 -0.003057   \n",
      "5        0.068975  0.051420  0.002588  ...  0.000109  0.000109  0.000871   \n",
      "\n",
      "movieId      1672      1673      1676      1678      1679      1680      1681  \n",
      "userId                                                                         \n",
      "1       -0.004514  0.000074 -0.002419 -0.000047 -0.000005 -0.000026 -0.000041  \n",
      "2       -0.001405 -0.001461 -0.000810  0.001489  0.000151  0.000820 -0.000007  \n",
      "3       -0.001836  0.000463 -0.005728 -0.000023 -0.000002 -0.000013 -0.000013  \n",
      "4       -0.000604  0.004160 -0.002195  0.000779  0.000079  0.000429 -0.000003  \n",
      "5       -0.001878  0.002465 -0.002146 -0.001252 -0.000127 -0.000690 -0.000025  \n",
      "\n",
      "[5 rows x 1653 columns]\n"
     ]
    }
   ],
   "source": [
    "# Predict ratings\n",
    "def predict_ratings(user_sim, ratings):\n",
    "    pred = user_sim.dot(ratings) / np.abs(user_sim).sum(axis=1).reshape(-1,1)\n",
    "    return pred\n",
    "\n",
    "pred_ratings = predict_ratings(user_similarity.values, train_matrix_norm.values)\n",
    "pred_ratings_df = pd.DataFrame(pred_ratings, index=train_matrix.index, columns=train_matrix.columns)\n",
    "print(pred_ratings_df.head())"
   ]
  },
  {
   "cell_type": "code",
   "execution_count": 13,
   "id": "807a345e-5413-4f70-8e90-ece2def2e7ea",
   "metadata": {},
   "outputs": [
    {
     "name": "stdout",
     "output_type": "stream",
     "text": [
      "RMSE: 0.4569524939157551\n"
     ]
    }
   ],
   "source": [
    "# Keep only common users and movies\n",
    "common_users = pred_ratings_df.index.intersection(test_matrix.index)\n",
    "common_movies = pred_ratings_df.columns.intersection(test_matrix.columns)\n",
    "\n",
    "pred_ratings_test = pred_ratings_df.loc[common_users, common_movies].fillna(0)\n",
    "test_matrix_filled = test_matrix.loc[common_users, common_movies].fillna(0)\n",
    "\n",
    "rmse = sqrt(mean_squared_error(test_matrix_filled.values.flatten(), pred_ratings_test.values.flatten()))\n",
    "print(f\"RMSE: {rmse}\")\n"
   ]
  },
  {
   "cell_type": "code",
   "execution_count": 14,
   "id": "b5a167eb-d6a7-4db2-ae25-1cf00e2536b1",
   "metadata": {},
   "outputs": [
    {
     "name": "stdout",
     "output_type": "stream",
     "text": [
      "Top 10 recommended movies for user 1:\n",
      "movieId\n",
      "50     0.564475\n",
      "174    0.392052\n",
      "127    0.387986\n",
      "172    0.348122\n",
      "12     0.331018\n",
      "173    0.325199\n",
      "100    0.311497\n",
      "168    0.295959\n",
      "98     0.289811\n",
      "56     0.286030\n",
      "Name: 1, dtype: float64\n"
     ]
    }
   ],
   "source": [
    "# Get predicted ratings for a user\n",
    "user_id = 1\n",
    "user_pred = pred_ratings_df.loc[user_id].sort_values(ascending=False)\n",
    "\n",
    "# Show top 10 recommendations\n",
    "top_10_movies = user_pred.head(10)\n",
    "print(\"Top 10 recommended movies for user 1:\")\n",
    "print(top_10_movies)"
   ]
  },
  {
   "cell_type": "code",
   "execution_count": 15,
   "id": "e48452f5-c1c2-46a0-8ea9-6be20add5763",
   "metadata": {},
   "outputs": [
    {
     "name": "stdout",
     "output_type": "stream",
     "text": [
      "     movieId                                   title  predicted_rating\n",
      "49        50                        Star Wars (1977)          0.564475\n",
      "173      174          Raiders of the Lost Ark (1981)          0.392052\n",
      "126      127                   Godfather, The (1972)          0.387986\n",
      "171      172         Empire Strikes Back, The (1980)          0.348122\n",
      "11        12              Usual Suspects, The (1995)          0.331018\n",
      "172      173              Princess Bride, The (1987)          0.325199\n",
      "99       100                            Fargo (1996)          0.311497\n",
      "167      168  Monty Python and the Holy Grail (1974)          0.295959\n",
      "97        98        Silence of the Lambs, The (1991)          0.289811\n",
      "55        56                     Pulp Fiction (1994)          0.286030\n"
     ]
    }
   ],
   "source": [
    "top_10_ids = top_10_movies.index\n",
    "top_10_titles = movies[movies['movieId'].isin(top_10_ids)][['movieId', 'title']]\n",
    "\n",
    "# Merge predicted ratings with movie titles\n",
    "top_10_with_titles = top_10_titles.merge(\n",
    "    top_10_movies.rename(\"predicted_rating\"),\n",
    "    left_on=\"movieId\",\n",
    "    right_index=True\n",
    ").sort_values(by=\"predicted_rating\", ascending=False)\n",
    "\n",
    "print(top_10_with_titles)\n"
   ]
  },
  {
   "cell_type": "code",
   "execution_count": 17,
   "id": "a6ab23b5-b97a-4a76-824e-feee7750723b",
   "metadata": {},
   "outputs": [],
   "source": [
    "from pathlib import Path\n",
    "\n",
    "# Ensure the directory exists\n",
    "Path(\"ml\").mkdir(parents=True, exist_ok=True)\n",
    "\n",
    "# Now save the CSV\n",
    "top_10_with_titles.to_csv(\"ml/top_10_recommendations_user1.csv\", index=False)\n"
   ]
  },
  {
   "cell_type": "code",
   "execution_count": 18,
   "id": "a08c4541-8e58-48db-8597-21697f8d079d",
   "metadata": {},
   "outputs": [],
   "source": [
    "top_10_with_titles.to_csv(\"ml/top_10_recommendations_user1.csv\", index=False)"
   ]
  },
  {
   "cell_type": "code",
   "execution_count": null,
   "id": "4709fd6b-6220-4a46-89a6-12558b88c2ab",
   "metadata": {},
   "outputs": [],
   "source": []
  }
 ],
 "metadata": {
  "kernelspec": {
   "display_name": "Python 3 (ipykernel)",
   "language": "python",
   "name": "python3"
  },
  "language_info": {
   "codemirror_mode": {
    "name": "ipython",
    "version": 3
   },
   "file_extension": ".py",
   "mimetype": "text/x-python",
   "name": "python",
   "nbconvert_exporter": "python",
   "pygments_lexer": "ipython3",
   "version": "3.13.4"
  }
 },
 "nbformat": 4,
 "nbformat_minor": 5
}
