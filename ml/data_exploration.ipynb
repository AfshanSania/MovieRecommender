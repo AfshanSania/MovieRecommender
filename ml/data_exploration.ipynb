{
 "cells": [
  {
   "cell_type": "code",
   "execution_count": 1,
   "id": "91f34145-e903-4c76-90a3-f52c9e142a4f",
   "metadata": {},
   "outputs": [],
   "source": [
    "import pandas as pd"
   ]
  },
  {
   "cell_type": "code",
   "execution_count": 7,
   "id": "37fe0ad5-7d96-48c8-a54f-3700126c7cb7",
   "metadata": {},
   "outputs": [
    {
     "name": "stdout",
     "output_type": "stream",
     "text": [
      "C:\\Users\\afsha\\Desktop\\proj\\MovieRecommender\\ml\n"
     ]
    }
   ],
   "source": [
    "import os\n",
    "print(os.getcwd())\n"
   ]
  },
  {
   "cell_type": "code",
   "execution_count": 8,
   "id": "d592d724-7629-4988-91b8-ee708a589064",
   "metadata": {},
   "outputs": [
    {
     "name": "stdout",
     "output_type": "stream",
     "text": [
      "Ratings dataset (first 5 rows):\n",
      "   userId  movieId  rating  timestamp\n",
      "0     196      242       3  881250949\n",
      "1     186      302       3  891717742\n",
      "2      22      377       1  878887116\n",
      "3     244       51       2  880606923\n",
      "4     166      346       1  886397596\n"
     ]
    }
   ],
   "source": [
    "ratings = pd.read_csv(\n",
    "    'data/ml-100k/u.data',  # path inside ml/data/\n",
    "    sep='\\t',       # tab-separated file\n",
    "    names=['userId', 'movieId', 'rating', 'timestamp']  # column names\n",
    ")\n",
    "\n",
    "print(\"Ratings dataset (first 5 rows):\")\n",
    "print(ratings.head())\n"
   ]
  },
  {
   "cell_type": "code",
   "execution_count": 9,
   "id": "0f8416a2-2bbd-402f-ad18-c0b9adbb4681",
   "metadata": {},
   "outputs": [
    {
     "name": "stdout",
     "output_type": "stream",
     "text": [
      "Movies dataset (first 5 rows):\n",
      "   movieId              title\n",
      "0        1   Toy Story (1995)\n",
      "1        2   GoldenEye (1995)\n",
      "2        3  Four Rooms (1995)\n",
      "3        4  Get Shorty (1995)\n",
      "4        5     Copycat (1995)\n"
     ]
    }
   ],
   "source": [
    "movies = pd.read_csv(\n",
    "    'data/ml-100k/u.item',\n",
    "    sep='|',\n",
    "    encoding='latin-1',\n",
    "    header=None,\n",
    "    usecols=[0, 1],  # we only need movieId and title\n",
    "    names=['movieId', 'title']\n",
    ")\n",
    "\n",
    "print(\"Movies dataset (first 5 rows):\")\n",
    "print(movies.head())\n"
   ]
  },
  {
   "cell_type": "code",
   "execution_count": 10,
   "id": "05a6e4ec-b5af-4be1-895c-0826355e82a3",
   "metadata": {},
   "outputs": [
    {
     "name": "stdout",
     "output_type": "stream",
     "text": [
      "Merged dataset (first 5 rows):\n",
      "   userId  movieId  rating  timestamp                       title\n",
      "0     196      242       3  881250949                Kolya (1996)\n",
      "1     186      302       3  891717742    L.A. Confidential (1997)\n",
      "2      22      377       1  878887116         Heavyweights (1994)\n",
      "3     244       51       2  880606923  Legends of the Fall (1994)\n",
      "4     166      346       1  886397596         Jackie Brown (1997)\n"
     ]
    }
   ],
   "source": [
    "data = pd.merge(ratings, movies, on='movieId')\n",
    "\n",
    "print(\"Merged dataset (first 5 rows):\")\n",
    "print(data.head())\n"
   ]
  },
  {
   "cell_type": "code",
   "execution_count": 11,
   "id": "69a70af4-7a19-4e40-9371-f7746aaa140e",
   "metadata": {},
   "outputs": [
    {
     "name": "stdout",
     "output_type": "stream",
     "text": [
      "\n",
      "Number of users: 943\n",
      "Number of movies: 1682\n",
      "Total ratings: 100000\n",
      "\n",
      "Dataset info:\n",
      "<class 'pandas.core.frame.DataFrame'>\n",
      "RangeIndex: 100000 entries, 0 to 99999\n",
      "Data columns (total 5 columns):\n",
      " #   Column     Non-Null Count   Dtype \n",
      "---  ------     --------------   ----- \n",
      " 0   userId     100000 non-null  int64 \n",
      " 1   movieId    100000 non-null  int64 \n",
      " 2   rating     100000 non-null  int64 \n",
      " 3   timestamp  100000 non-null  int64 \n",
      " 4   title      100000 non-null  object\n",
      "dtypes: int64(4), object(1)\n",
      "memory usage: 3.8+ MB\n",
      "None\n"
     ]
    }
   ],
   "source": [
    "print(\"\\nNumber of users:\", data['userId'].nunique())\n",
    "print(\"Number of movies:\", data['movieId'].nunique())\n",
    "print(\"Total ratings:\", data.shape[0])\n",
    "\n",
    "print(\"\\nDataset info:\")\n",
    "print(data.info())\n"
   ]
  },
  {
   "cell_type": "code",
   "execution_count": 1,
   "id": "d781e4ed-06ee-458d-9bc8-dee7d7384c71",
   "metadata": {},
   "outputs": [
    {
     "name": "stdout",
     "output_type": "stream",
     "text": [
      "C:\\Users\\afsha\\Desktop\\proj\\MovieRecommender\\ml\n"
     ]
    }
   ],
   "source": [
    "import pathlib\n",
    "print(pathlib.Path().resolve())\n"
   ]
  },
  {
   "cell_type": "code",
   "execution_count": null,
   "id": "5ee08061-0e77-44c2-8c36-ac67752c33e6",
   "metadata": {},
   "outputs": [],
   "source": []
  }
 ],
 "metadata": {
  "kernelspec": {
   "display_name": "Python 3 (ipykernel)",
   "language": "python",
   "name": "python3"
  },
  "language_info": {
   "codemirror_mode": {
    "name": "ipython",
    "version": 3
   },
   "file_extension": ".py",
   "mimetype": "text/x-python",
   "name": "python",
   "nbconvert_exporter": "python",
   "pygments_lexer": "ipython3",
   "version": "3.13.4"
  }
 },
 "nbformat": 4,
 "nbformat_minor": 5
}
